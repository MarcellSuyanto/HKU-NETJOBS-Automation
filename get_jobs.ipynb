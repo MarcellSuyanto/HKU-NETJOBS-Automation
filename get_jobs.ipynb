{
 "cells": [
  {
   "cell_type": "code",
   "execution_count": 83,
   "id": "c55b8e01",
   "metadata": {},
   "outputs": [],
   "source": [
    "from selenium import webdriver\n",
    "from selenium.webdriver.common.by import By\n",
    "from selenium.webdriver.support.ui import WebDriverWait\n",
    "from selenium.webdriver.support import expected_conditions as EC\n",
    "from dotenv import load_dotenv\n",
    "import os\n",
    "import time\n",
    "from datetime import datetime, timedelta\n",
    "import pandas as pd"
   ]
  },
  {
   "cell_type": "code",
   "execution_count": 66,
   "id": "708827b7",
   "metadata": {},
   "outputs": [],
   "source": [
    "load_dotenv()\n",
    "user = os.getenv(\"UID\")\n",
    "password = os.getenv(\"PASSWORD\")\n",
    "\n",
    "#JOB TYPE: \n",
    "# Graduate \n",
    "# Internsip \n",
    "# Temporary \n",
    "# Summer\n",
    "job_type = \"Internship\""
   ]
  },
  {
   "cell_type": "markdown",
   "id": "8130e26a",
   "metadata": {},
   "source": [
    "<h2>Logging into the Job Portal</h2>"
   ]
  },
  {
   "cell_type": "code",
   "execution_count": 67,
   "id": "73fb9b37",
   "metadata": {},
   "outputs": [],
   "source": [
    "driver = webdriver.Chrome()\n",
    "driver.get(\"https://www.cedars.hku.hk/netjobs\")\n",
    "main_page = driver.current_window_handle\n",
    "\n",
    "# Click on Student Login\n",
    "student_login = driver.find_element(By.XPATH, \"//a[text()='HKU Student']\")\n",
    "student_login.click()\n",
    "\n",
    "#Input email and log in\n",
    "email_input = WebDriverWait(driver, timeout=10).until(\n",
    "    EC.presence_of_element_located((By.ID, \"email\"))\n",
    ")\n",
    "login_button = driver.find_element(By.ID, \"login_btn\")\n",
    "\n",
    "email_input.send_keys(user)\n",
    "login_button.click()\n",
    "\n",
    "#Input password\n",
    "password_input = WebDriverWait(driver, timeout=10).until(\n",
    "    EC.presence_of_element_located((By.ID, \"passwordInput\"))\n",
    ")\n",
    "sign_in_button = driver.find_element(By.ID, \"submitButton\")\n",
    "password_input.send_keys(password)\n",
    "sign_in_button.click()\n",
    "\n",
    "#Trust Page\n",
    "continue_button = WebDriverWait(driver, timeout=10).until(\n",
    "    EC.presence_of_element_located((By.ID, \"idSIButton9\"))\n",
    ")\n",
    "continue_button.click()\n",
    "time.sleep(1)\n",
    "#Stay Singed in page\n",
    "stay_button = WebDriverWait(driver, timeout=10).until(\n",
    "    EC.presence_of_element_located((By.ID, \"idSIButton9\"))\n",
    ")\n",
    "stay_button.click()\n",
    "\n"
   ]
  },
  {
   "cell_type": "markdown",
   "id": "4010562f",
   "metadata": {},
   "source": [
    "<h2>Job Portal Page</h2>"
   ]
  },
  {
   "cell_type": "markdown",
   "id": "0b6fdaf4",
   "metadata": {},
   "source": [
    "**Navigate to Internship Page**"
   ]
  },
  {
   "cell_type": "code",
   "execution_count": 69,
   "id": "48a09541",
   "metadata": {},
   "outputs": [],
   "source": [
    "check_box = WebDriverWait(driver, 10).until(\n",
    "    EC.visibility_of_element_located((By.XPATH, \"//input[@type='checkbox']\"))\n",
    ")\n",
    "check_box.click()\n",
    "agree_btn = WebDriverWait(driver,10).until(\n",
    "    EC.element_to_be_clickable((By.ID, \"btn-agree\"))\n",
    ")\n",
    "agree_btn.click()"
   ]
  },
  {
   "cell_type": "code",
   "execution_count": 70,
   "id": "b1557e0f",
   "metadata": {},
   "outputs": [],
   "source": [
    "time.sleep(1)\n",
    "internship_button = driver.find_element(By.XPATH, f\"//a[text()='{job_type} (']\")\n",
    "internship_button.click()"
   ]
  },
  {
   "cell_type": "code",
   "execution_count": 71,
   "id": "111ada2a",
   "metadata": {},
   "outputs": [
    {
     "data": {
      "text/plain": [
       "'2025-06-28'"
      ]
     },
     "execution_count": 71,
     "metadata": {},
     "output_type": "execute_result"
    }
   ],
   "source": [
    "\n",
    "yesterday = datetime.now() - timedelta(1)\n",
    "yesterday = datetime.strftime(yesterday, '%Y-%m-%d')\n",
    "yesterday"
   ]
  },
  {
   "cell_type": "code",
   "execution_count": 84,
   "id": "40e17238",
   "metadata": {},
   "outputs": [
    {
     "data": {
      "text/html": [
       "<div>\n",
       "<style scoped>\n",
       "    .dataframe tbody tr th:only-of-type {\n",
       "        vertical-align: middle;\n",
       "    }\n",
       "\n",
       "    .dataframe tbody tr th {\n",
       "        vertical-align: top;\n",
       "    }\n",
       "\n",
       "    .dataframe thead th {\n",
       "        text-align: right;\n",
       "    }\n",
       "</style>\n",
       "<table border=\"1\" class=\"dataframe\">\n",
       "  <thead>\n",
       "    <tr style=\"text-align: right;\">\n",
       "      <th></th>\n",
       "      <th>Job</th>\n",
       "      <th>Posting Date</th>\n",
       "      <th>Employment Type</th>\n",
       "      <th>Employment Mode</th>\n",
       "      <th>Company Name</th>\n",
       "      <th>Nature of Business</th>\n",
       "      <th>Origin of Company</th>\n",
       "      <th>No. of Employees</th>\n",
       "      <th>Position Offered</th>\n",
       "      <th>No of Vacancies</th>\n",
       "      <th>...</th>\n",
       "      <th>Basic Salary</th>\n",
       "      <th>Work Location</th>\n",
       "      <th>Work Mode</th>\n",
       "      <th>Fields of Study</th>\n",
       "      <th>Level of Award</th>\n",
       "      <th>No. of working hours per day</th>\n",
       "      <th>No. of working days per week</th>\n",
       "      <th>Closing Date for Application</th>\n",
       "      <th>Application Submission</th>\n",
       "      <th>Application Documents</th>\n",
       "    </tr>\n",
       "  </thead>\n",
       "  <tbody>\n",
       "  </tbody>\n",
       "</table>\n",
       "<p>0 rows × 22 columns</p>\n",
       "</div>"
      ],
      "text/plain": [
       "Empty DataFrame\n",
       "Columns: [Job, Posting Date, Employment Type, Employment Mode, Company Name, Nature of Business, Origin of Company, No. of Employees, Position Offered, No of Vacancies, Job Nature, Job Description, Basic Salary, Work Location, Work Mode, Fields of Study, Level of Award, No. of working hours per day, No. of working days per week, Closing Date for Application, Application Submission, Application Documents]\n",
       "Index: []\n",
       "\n",
       "[0 rows x 22 columns]"
      ]
     },
     "execution_count": 84,
     "metadata": {},
     "output_type": "execute_result"
    }
   ],
   "source": [
    "df = pd.read_excel('jobs.xlsx')\n",
    "df\n"
   ]
  },
  {
   "cell_type": "markdown",
   "id": "3965a9e3",
   "metadata": {},
   "source": [
    "tbody -> tr(each job post) -> td(job details) x 5"
   ]
  },
  {
   "cell_type": "code",
   "execution_count": 79,
   "id": "93560df4",
   "metadata": {},
   "outputs": [],
   "source": [
    "details = []\n",
    "elements = driver.find_elements(By.XPATH, \"//table[@id='search_jobs']/tbody/tr\")\n",
    "elements[-3].click()"
   ]
  },
  {
   "cell_type": "code",
   "execution_count": 80,
   "id": "2c95c1a8",
   "metadata": {},
   "outputs": [],
   "source": [
    "WebDriverWait(driver, 10).until(EC.number_of_windows_to_be(2))\n",
    "\n",
    "for window_handle in driver.window_handles:\n",
    "        if window_handle != main_page:\n",
    "            driver.switch_to.window(window_handle)\n",
    "            break\n",
    "\n",
    "data = []\n",
    "driver.current_url\n",
    "extract_data = driver.find_elements(By.XPATH, \"//div[@id='content']/div[@class='crow']\")\n",
    "data = [i.text for i in extract_data]"
   ]
  },
  {
   "cell_type": "code",
   "execution_count": 81,
   "id": "bb1d9ca6",
   "metadata": {},
   "outputs": [
    {
     "data": {
      "text/plain": [
       "['Job ID:\\nG2404483',\n",
       " 'Posting Date:\\n2025-06-23',\n",
       " 'Employment Type:\\nInternship',\n",
       " 'Employment Mode:\\nFull-time',\n",
       " 'Company Name (Eng):\\nHyphen Connect Limited',\n",
       " 'Nature of Business:\\nHuman Resources Consulting / Recruitment Agency / Training',\n",
       " 'Origin of Company Ownership:\\nHong Kong',\n",
       " 'No. of Employees:\\n1-10 employees',\n",
       " 'Position Offered:\\nAI Product Developer/Engineer Intern(HK STEM)',\n",
       " 'No. of Vacancies:\\n2',\n",
       " 'Job Nature:\\nIT / Programming',\n",
       " 'Job Description:\\nAbout Hyphen Connect \\nHyphen Connect is building a game-changing Candidate CRM that syncs with our candidate and jobs systems and databases to streamline recruitment. We’re a small, ambitious recruitment team with a big vision: to make candidate management smarter and more efficient. We’re looking for a driven AI Developer/Engineer Intern to design and build AI-powered features for our CRM—someone who can take charge, experiment, and deliver solutions with minimal oversight. \\n  Role Overview \\nAs our AI Developer/Engineer, you’ll be the brains behind creating AI-driven tools to enhance our Candidate CRM. We need a self-motivated engineer who loves coding, tinkering, and turning ideas into reality. You’ll work directly team members with passion for the project but limited dev experience—to develop features like advanced candidate search and automation, using tools you can master on your own. \\n  Key Responsibilities \\nDesign and build AI-powered features (e.g., smart candidate search, resume parsing, automated tagging, and anything you can think of!) that fit our CRM’s goals. \\nDevelop prototypes using accessible tools, APIs, or scripting (e.g., Python, ChatGPT API, Google Colab) to solve real recruitment challenges. \\nExplore and implement user-friendly AI solutions that don’t require a full dev team to maintain. \\nTest your code with sample candidate data from candidate database and refine it based on results. \\nDocument your work—code, experiments, and simple guides—so we can keep the momentum going. \\nPartner with a tech-forward recruitment manager to prioritize features and ensure they meet our recruiters’ needs. \\n\\nQualifications \\nCurrent enrollment in a program in Computer Science, Data Science, Engineering, or a related STEM field. \\nA self-starter mentality: you’re comfortable learning tools, debugging, and building solo. \\nHands-on experience with coding (e.g., Python, JavaScript, or similar) and a passion for AI (no expert-level skills required—just enthusiasm to dive in). \\nA portfolio of work showcasing your development skills—think school projects, personal apps, scripts, or experiments (doesn’t need to be CRM or recruitment-related, just show us you can build stuff!). \\nFamiliarity with APIs, no-code/low-code platforms, or basic data handling (e.g., CSV files, JSON) is a plus but not mandatory. \\nAbility to break down technical ideas for a non-technical team with clarity and excitement. \\nBonus: Interest in recruitment tech, CRM/ATS, or messing around with data. \\n\\nWhat You’ll Gain \\nFull ownership to design and code AI features for a real product. \\nA chance to shine in a startup where your work shapes our work and future. \\nPractical engineering experience with tools and challenges you can tackle solo. \\nA portfolio piece to flex your development and product management skills. \\nMentorship from a founder obsessed with recruitment innovation.',\n",
       " 'Basic Salary:\\nHKD 11490 per Month',\n",
       " 'Work Location:\\nHong Kong',\n",
       " 'Work Mode:\\nHybrid work, Fully on-site work',\n",
       " 'Fields of Study Required:\\nBusiness Administration\\nComputer Engineering\\nComputer Science\\nInformation Systems / Management\\nInternational Business and Global Management\\nScience / Applied Science',\n",
       " 'Level of Award :\\nBachelor',\n",
       " 'No. of working hours per day:\\n8',\n",
       " 'No. of working days per week:\\n5',\n",
       " 'Closing Date for Application:\\n2025-06-30',\n",
       " 'Application should be submitted by/via:',\n",
       " 'Online via NETjobs:',\n",
       " 'Application Documents Required:\\nCV']"
      ]
     },
     "execution_count": 81,
     "metadata": {},
     "output_type": "execute_result"
    }
   ],
   "source": [
    "data"
   ]
  },
  {
   "cell_type": "code",
   "execution_count": 82,
   "id": "c47587c1",
   "metadata": {},
   "outputs": [],
   "source": [
    "driver.close()\n",
    "driver.switch_to.window(main_page)"
   ]
  }
 ],
 "metadata": {
  "kernelspec": {
   "display_name": "base",
   "language": "python",
   "name": "python3"
  },
  "language_info": {
   "codemirror_mode": {
    "name": "ipython",
    "version": 3
   },
   "file_extension": ".py",
   "mimetype": "text/x-python",
   "name": "python",
   "nbconvert_exporter": "python",
   "pygments_lexer": "ipython3",
   "version": "3.11.5"
  }
 },
 "nbformat": 4,
 "nbformat_minor": 5
}
