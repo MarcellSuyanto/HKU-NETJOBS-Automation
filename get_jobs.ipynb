{
 "cells": [
  {
   "cell_type": "code",
   "execution_count": 2,
   "id": "259ef5a7",
   "metadata": {},
   "outputs": [
    {
     "name": "stdout",
     "output_type": "stream",
     "text": [
      "Note: you may need to restart the kernel to use updated packages.\n"
     ]
    },
    {
     "name": "stderr",
     "output_type": "stream",
     "text": [
      "ERROR: Could not find a version that satisfies the requirement sqlite3 (from versions: none)\n",
      "\n",
      "[notice] A new release of pip is available: 24.2 -> 25.1.1\n",
      "[notice] To update, run: python.exe -m pip install --upgrade pip\n",
      "ERROR: No matching distribution found for sqlite3\n"
     ]
    }
   ],
   "source": [
    "%pip install sqlite3"
   ]
  },
  {
   "cell_type": "code",
   "execution_count": 3,
   "id": "c55b8e01",
   "metadata": {},
   "outputs": [],
   "source": [
    "from selenium import webdriver\n",
    "from selenium.webdriver.common.by import By\n",
    "from selenium.webdriver.support.ui import WebDriverWait\n",
    "from selenium.webdriver.support import expected_conditions as EC\n",
    "from dotenv import load_dotenv\n",
    "import os\n",
    "import time\n",
    "from datetime import datetime, timedelta\n",
    "import pandas as pd\n",
    "import sqlite3"
   ]
  },
  {
   "cell_type": "code",
   "execution_count": 4,
   "id": "708827b7",
   "metadata": {},
   "outputs": [],
   "source": [
    "load_dotenv()\n",
    "user = os.getenv(\"UID\")\n",
    "password = os.getenv(\"PASSWORD\")\n",
    "\n",
    "#JOB TYPE: \n",
    "# Graduate \n",
    "# Internsip \n",
    "# Temporary \n",
    "# Summer\n",
    "job_type = \"Internship\""
   ]
  },
  {
   "cell_type": "markdown",
   "id": "8130e26a",
   "metadata": {},
   "source": [
    "<h2>Logging into the Job Portal</h2>"
   ]
  },
  {
   "cell_type": "code",
   "execution_count": 5,
   "id": "73fb9b37",
   "metadata": {},
   "outputs": [],
   "source": [
    "driver = webdriver.Chrome()\n",
    "driver.get(\"https://www.cedars.hku.hk/netjobs\")\n",
    "main_page = driver.current_window_handle\n",
    "\n",
    "# Click on Student Login\n",
    "student_login = driver.find_element(By.XPATH, \"//a[text()='HKU Student']\")\n",
    "student_login.click()\n",
    "\n",
    "#Input email and log in\n",
    "email_input = WebDriverWait(driver, timeout=10).until(\n",
    "    EC.presence_of_element_located((By.ID, \"email\"))\n",
    ")\n",
    "login_button = driver.find_element(By.ID, \"login_btn\")\n",
    "\n",
    "email_input.send_keys(user)\n",
    "login_button.click()\n",
    "\n",
    "#Input password\n",
    "password_input = WebDriverWait(driver, timeout=10).until(\n",
    "    EC.presence_of_element_located((By.ID, \"passwordInput\"))\n",
    ")\n",
    "sign_in_button = driver.find_element(By.ID, \"submitButton\")\n",
    "password_input.send_keys(password)\n",
    "sign_in_button.click()\n",
    "\n",
    "#Trust Page\n",
    "continue_button = WebDriverWait(driver, timeout=10).until(\n",
    "    EC.presence_of_element_located((By.ID, \"idSIButton9\"))\n",
    ")\n",
    "continue_button.click()\n",
    "time.sleep(3)\n",
    "#Stay Singed in page\n",
    "stay_button = WebDriverWait(driver, timeout=10).until(\n",
    "    EC.presence_of_element_located((By.XPATH, \"//input[@type='submit' and @id='idSIButton9']\"))\n",
    ")\n",
    "stay_button.click()\n",
    "\n"
   ]
  },
  {
   "cell_type": "markdown",
   "id": "4010562f",
   "metadata": {},
   "source": [
    "<h2>Job Portal Page</h2>"
   ]
  },
  {
   "cell_type": "markdown",
   "id": "0b6fdaf4",
   "metadata": {},
   "source": [
    "**Navigate to Internship Page**"
   ]
  },
  {
   "cell_type": "code",
   "execution_count": 6,
   "id": "48a09541",
   "metadata": {},
   "outputs": [],
   "source": [
    "check_box = WebDriverWait(driver, 10).until(\n",
    "    EC.visibility_of_element_located((By.XPATH, \"//input[@type='checkbox']\"))\n",
    ")\n",
    "check_box.click()\n",
    "agree_btn = WebDriverWait(driver,10).until(\n",
    "    EC.element_to_be_clickable((By.ID, \"btn-agree\"))\n",
    ")\n",
    "agree_btn.click()"
   ]
  },
  {
   "cell_type": "code",
   "execution_count": 7,
   "id": "b1557e0f",
   "metadata": {},
   "outputs": [],
   "source": [
    "time.sleep(1)\n",
    "internship_button = driver.find_element(By.XPATH, f\"//a[text()='{job_type} (']\")\n",
    "internship_button.click()"
   ]
  },
  {
   "cell_type": "code",
   "execution_count": 8,
   "id": "111ada2a",
   "metadata": {},
   "outputs": [
    {
     "data": {
      "text/plain": [
       "'2025-07-02'"
      ]
     },
     "execution_count": 8,
     "metadata": {},
     "output_type": "execute_result"
    }
   ],
   "source": [
    "\n",
    "yesterday = datetime.now() - timedelta(1)\n",
    "yesterday = datetime.strftime(yesterday, '%Y-%m-%d')\n",
    "yesterday"
   ]
  },
  {
   "cell_type": "code",
   "execution_count": 9,
   "id": "946f51c4",
   "metadata": {},
   "outputs": [],
   "source": [
    "def clean_data(data):\n",
    "    # data: list of strings corresponding to job details\n",
    "    for i in range(len(data)):\n",
    "        data[i] = data[i].split(':\\n')\n",
    "    return data\n",
    "        "
   ]
  },
  {
   "cell_type": "code",
   "execution_count": 10,
   "id": "2c95c1a8",
   "metadata": {},
   "outputs": [],
   "source": [
    "def get_data(driver):\n",
    "    WebDriverWait(driver, 10).until(EC.number_of_windows_to_be(2))\n",
    "\n",
    "    for window_handle in driver.window_handles:\n",
    "        if window_handle != main_page:\n",
    "            driver.switch_to.window(window_handle)\n",
    "            break\n",
    "    \n",
    "    WebDriverWait(driver, 10).until(\n",
    "        EC.presence_of_element_located((By.XPATH, \"//div[@id='content']\"))\n",
    "    )\n",
    "    extract_data = driver.find_elements(By.XPATH, \"//div[@id='content']//div[contains(@class, 'crow')]\")\n",
    "    data = [i.text for i in extract_data if i.text.strip()]\n",
    "    \n",
    "    driver.close()\n",
    "    driver.switch_to.window(main_page)\n",
    "    return data"
   ]
  },
  {
   "cell_type": "code",
   "execution_count": 11,
   "id": "93560df4",
   "metadata": {},
   "outputs": [],
   "source": [
    "details = []\n",
    "jobs = driver.find_elements(By.XPATH, \"//table[@id='search_jobs']/tbody/tr\")\n",
    "\n",
    "for i, job in enumerate(jobs):\n",
    "    job.click()\n",
    "    data = clean_data(get_data(driver))\n",
    "    details.append(data)\n",
    "\n",
    "driver.close()\n",
    "    "
   ]
  },
  {
   "cell_type": "code",
   "execution_count": 12,
   "id": "b8c86939",
   "metadata": {},
   "outputs": [
    {
     "data": {
      "text/plain": [
       "[['Job ID', 'G2404506'],\n",
       " ['Posting Date', '2025-06-26'],\n",
       " ['Employment Type', 'Internship'],\n",
       " ['Employment Mode', 'Part-time'],\n",
       " ['Company Name (Eng)', 'Casetagram Limited'],\n",
       " ['Nature of Business', 'Information Technology / Telecom / Technology'],\n",
       " ['Origin of Company Ownership', 'Hong Kong'],\n",
       " ['No. of Employees', '50-100 employees'],\n",
       " ['Position Offered', 'Retail Operations Intern, SEA (Based in Hong Kong)'],\n",
       " ['No. of Vacancies', '1'],\n",
       " ['Job Nature', 'Sales / Account Executive / Business Development'],\n",
       " ['Job Description',\n",
       "  'Job Description\\nDay-to-Day Operations Support: With the number of operational tasks increasing weekly—including store directive tracking, expense submissions, and localization of pricing/VM assets—this intern will help ensure all recurring tasks are completed accurately and on time.\\nVisual Merchandising Planning & Execution: Will assist in planning and executing VM updates, including seasonal refreshes and new campaigns. Support layout planning, photo documentation, and compliance reporting, which are crucial for maintaining brand consistency at the retail level.\\nRetail-Global Communication: Will act as a key support touchpoint between the global retail team and local store staff, helping to relay new updates, changes, and ensure operational alignment. This helps bridge gaps and minimizes the chance of miscommunication or execution delays.\\nRetail-Marketing Alignment: For campaigns and activations, this intern will liaise with the marketing team to ensure that all in-store marketing elements (e.g., collaterals, POP materials) are implemented accurately and on schedule.\\n  Requirement\\nCurrently pursuing a Bachelor Degree in Business/ Retail / Marketing or related field\\nRelated internship experience is an advantage\\nKnowledge of Google Workspace, Microsoft Office and Adobe Creative Suite\\nStrong interest in the global retail business and tech accessories market\\nFluent in written and spoken English\\nAble to work independently\\nEager to learn and perform'],\n",
       " ['Basic Salary', 'HKD 80 per Hour'],\n",
       " ['Work Location', 'Hong Kong'],\n",
       " ['Work Mode', 'Fully on-site work'],\n",
       " ['Fields of Study Required', 'All disciplines'],\n",
       " ['Level of Award ', 'Bachelor, Master'],\n",
       " ['No. of working hours per day', '8'],\n",
       " ['No. of working days per week', '2'],\n",
       " ['Closing Date for Application', '2025-07-31'],\n",
       " ['Application should be submitted by/via:'],\n",
       " ['Online Application at company website', 'https://grnh.se/5dc4e4af4us'],\n",
       " ['Application Documents Required', 'CV']]"
      ]
     },
     "execution_count": 12,
     "metadata": {},
     "output_type": "execute_result"
    }
   ],
   "source": [
    "details[0]"
   ]
  },
  {
   "cell_type": "code",
   "execution_count": null,
   "id": "18808b31",
   "metadata": {},
   "outputs": [],
   "source": [
    "\n",
    "\"\"\"\n",
    "import nbformat\n",
    "\n",
    "# Load the notebook\n",
    "with open('get_jobs.ipynb') as f:\n",
    "    notebook = nbformat.read(f, as_version=4)\n",
    "\n",
    "# Extract code cells\n",
    "code_cells = [cell.source for cell in notebook.cells if cell.cell_type == 'code']\n",
    "\n",
    "# Write to a .py file\n",
    "with open('output_script.py', 'w') as f:\n",
    "    for cell in code_cells:\n",
    "        f.write(cell + '\\n\\n')\n",
    "\"\"\""
   ]
  }
 ],
 "metadata": {
  "kernelspec": {
   "display_name": "base",
   "language": "python",
   "name": "python3"
  },
  "language_info": {
   "codemirror_mode": {
    "name": "ipython",
    "version": 3
   },
   "file_extension": ".py",
   "mimetype": "text/x-python",
   "name": "python",
   "nbconvert_exporter": "python",
   "pygments_lexer": "ipython3",
   "version": "3.11.5"
  }
 },
 "nbformat": 4,
 "nbformat_minor": 5
}
